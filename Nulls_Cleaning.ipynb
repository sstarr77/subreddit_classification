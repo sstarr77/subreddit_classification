{
 "cells": [
  {
   "cell_type": "markdown",
   "id": "9732dbfc",
   "metadata": {},
   "source": [
    "Importing Libraries"
   ]
  },
  {
   "cell_type": "code",
   "execution_count": 31,
   "id": "95f15f29",
   "metadata": {},
   "outputs": [],
   "source": [
    "import pandas as pd\n",
    "import numpy as np\n",
    "import requests\n",
    "import time"
   ]
  },
  {
   "cell_type": "markdown",
   "id": "ec2b29cd",
   "metadata": {},
   "source": [
    "Creating base url"
   ]
  },
  {
   "cell_type": "code",
   "execution_count": 33,
   "id": "d18c7e93",
   "metadata": {},
   "outputs": [],
   "source": [
    "# Create url for API call.\n",
    "url = 'https://api.pushshift.io/reddit/search/submission'"
   ]
  },
  {
   "cell_type": "markdown",
   "id": "7feb831e",
   "metadata": {},
   "source": [
    "Getting the most recent 50 posts from lotr that have the word wizard in it. This is a good starting point to see if lotr and harry potter posts both share the word wizard. At this point, I'm not sure how I will build a model that tests if JK Rowling took any ideas from JRR Tolkien, but until I figure out how to measure that, I will start by first extracting the data."
   ]
  },
  {
   "cell_type": "code",
   "execution_count": 34,
   "id": "d5bcf4b1",
   "metadata": {},
   "outputs": [],
   "source": [
    " lotr_url = url + '?subreddit=lotr&q=wizard'"
   ]
  },
  {
   "cell_type": "code",
   "execution_count": 35,
   "id": "dc87e7c9",
   "metadata": {},
   "outputs": [],
   "source": [
    "response = requests.get(lotr_url, params=params)"
   ]
  },
  {
   "cell_type": "code",
   "execution_count": 36,
   "id": "3e4a667f",
   "metadata": {},
   "outputs": [],
   "source": [
    "lotr_posts = response.json()"
   ]
  },
  {
   "cell_type": "markdown",
   "id": "ac7ca373",
   "metadata": {},
   "source": [
    "Need to find out a way to access the data values in lotr_posts!"
   ]
  },
  {
   "cell_type": "code",
   "execution_count": 40,
   "id": "e81624d2",
   "metadata": {},
   "outputs": [],
   "source": [
    "lotr_posts_df1 = pd.DataFrame(lotr_posts['data'])[['title', 'selftext', 'subreddit', 'created_utc']]"
   ]
  },
  {
   "cell_type": "code",
   "execution_count": 41,
   "id": "2bb499b5",
   "metadata": {},
   "outputs": [
    {
     "ename": "KeyError",
     "evalue": "'created_utc'",
     "output_type": "error",
     "traceback": [
      "\u001b[0;31m---------------------------------------------------------------------------\u001b[0m",
      "\u001b[0;31mKeyError\u001b[0m                                  Traceback (most recent call last)",
      "\u001b[0;32m/var/folders/qx/9hkbv9h55h37pzxyqzgzv47h0000gn/T/ipykernel_1078/1894315393.py\u001b[0m in \u001b[0;36m<module>\u001b[0;34m\u001b[0m\n\u001b[0;32m----> 1\u001b[0;31m \u001b[0mbefore\u001b[0m \u001b[0;34m=\u001b[0m \u001b[0mlotr_posts\u001b[0m\u001b[0;34m[\u001b[0m\u001b[0;34m'created_utc'\u001b[0m\u001b[0;34m]\u001b[0m\u001b[0;34m.\u001b[0m\u001b[0mvalues\u001b[0m\u001b[0;34m[\u001b[0m\u001b[0;34m-\u001b[0m\u001b[0;36m1\u001b[0m\u001b[0;34m]\u001b[0m\u001b[0;34m\u001b[0m\u001b[0;34m\u001b[0m\u001b[0m\n\u001b[0m",
      "\u001b[0;31mKeyError\u001b[0m: 'created_utc'"
     ]
    }
   ],
   "source": [
    "before = lotr_posts['created_utc'].values[-1]"
   ]
  },
  {
   "cell_type": "code",
   "execution_count": null,
   "id": "4b26854d",
   "metadata": {},
   "outputs": [],
   "source": [
    "params = {\n",
    "    'size': 50,\n",
    "    'before': before\n",
    "} "
   ]
  },
  {
   "cell_type": "code",
   "execution_count": 24,
   "id": "cc03dd27",
   "metadata": {},
   "outputs": [
    {
     "ename": "NameError",
     "evalue": "name 'lotr_posts' is not defined",
     "output_type": "error",
     "traceback": [
      "\u001b[0;31m---------------------------------------------------------------------------\u001b[0m",
      "\u001b[0;31mNameError\u001b[0m                                 Traceback (most recent call last)",
      "\u001b[0;32m/var/folders/qx/9hkbv9h55h37pzxyqzgzv47h0000gn/T/ipykernel_1078/3345463100.py\u001b[0m in \u001b[0;36m<module>\u001b[0;34m\u001b[0m\n\u001b[1;32m      5\u001b[0m \u001b[0;34m\u001b[0m\u001b[0m\n\u001b[1;32m      6\u001b[0m     \u001b[0;31m#set before to current time\u001b[0m\u001b[0;34m\u001b[0m\u001b[0;34m\u001b[0m\u001b[0m\n\u001b[0;32m----> 7\u001b[0;31m     \u001b[0mbefore\u001b[0m \u001b[0;34m=\u001b[0m \u001b[0mlotr_posts\u001b[0m\u001b[0;34m[\u001b[0m\u001b[0;34m'created_utc'\u001b[0m\u001b[0;34m]\u001b[0m\u001b[0;34m.\u001b[0m\u001b[0mvalues\u001b[0m\u001b[0;34m[\u001b[0m\u001b[0;36m0\u001b[0m\u001b[0;34m]\u001b[0m\u001b[0;34m\u001b[0m\u001b[0;34m\u001b[0m\u001b[0m\n\u001b[0m\u001b[1;32m      8\u001b[0m \u001b[0;34m\u001b[0m\u001b[0m\n\u001b[1;32m      9\u001b[0m     \u001b[0;32mfor\u001b[0m \u001b[0mi\u001b[0m \u001b[0;32min\u001b[0m \u001b[0mrange\u001b[0m\u001b[0;34m(\u001b[0m\u001b[0;36m1\u001b[0m\u001b[0;34m)\u001b[0m\u001b[0;34m:\u001b[0m\u001b[0;34m\u001b[0m\u001b[0;34m\u001b[0m\u001b[0m\n",
      "\u001b[0;31mNameError\u001b[0m: name 'lotr_posts' is not defined"
     ]
    }
   ],
   "source": [
    "dfs = []\n",
    "\n",
    "subreddits = ['lotr', 'harrypotter']#add more \n",
    "for subreddit in subreddits:\n",
    "    \n",
    "    #set before to current time\n",
    "    before = lotr_posts['created_utc'].values[0] \n",
    "    \n",
    "    for i in range(1):\n",
    "        print(subreddit, i)\n",
    "        #create params: before, subreddit, size\n",
    "        lotr_url = url + '?subreddit=lotr&q=wizard'\n",
    "        params = {\n",
    "            'size': 50\n",
    "            }\n",
    "        #use the requests to get the response\n",
    "        response = requests.get(lotr_url, params=params)\n",
    "        #turn the response into JSON\n",
    "        lotr_posts = response.json()\n",
    "        #turn the JSON into a DataFram\n",
    "        lotr_posts = pd.DataFrame(data['data'])[['title', 'selftext', 'subreddit', 'created_utc']]\n",
    "        #add posts DataFrame to dfs\n",
    "        dfs.append(lotr_posts)\n",
    "        #set before to be the timestamp of the last post\n",
    "        before = lotr_posts['created_utc'].values[-1]\n",
    "        \n",
    "        time.sleep(3)\n"
   ]
  },
  {
   "cell_type": "code",
   "execution_count": null,
   "id": "5588b7c9",
   "metadata": {},
   "outputs": [],
   "source": []
  }
 ],
 "metadata": {
  "kernelspec": {
   "display_name": "Python 3 (ipykernel)",
   "language": "python",
   "name": "python3"
  },
  "language_info": {
   "codemirror_mode": {
    "name": "ipython",
    "version": 3
   },
   "file_extension": ".py",
   "mimetype": "text/x-python",
   "name": "python",
   "nbconvert_exporter": "python",
   "pygments_lexer": "ipython3",
   "version": "3.9.7"
  }
 },
 "nbformat": 4,
 "nbformat_minor": 5
}
