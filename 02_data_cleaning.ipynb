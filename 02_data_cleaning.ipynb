{
 "cells": [
  {
   "cell_type": "code",
   "execution_count": 32,
   "id": "e4f1f97d",
   "metadata": {},
   "outputs": [
    {
     "name": "stderr",
     "output_type": "stream",
     "text": [
      "[nltk_data] Downloading package wordnet to\n",
      "[nltk_data]     /Users/breezehomefolder/nltk_data...\n",
      "[nltk_data]   Package wordnet is already up-to-date!\n",
      "[nltk_data] Downloading package stopwords to\n",
      "[nltk_data]     /Users/breezehomefolder/nltk_data...\n",
      "[nltk_data]   Package stopwords is already up-to-date!\n"
     ]
    },
    {
     "data": {
      "text/plain": [
       "True"
      ]
     },
     "execution_count": 32,
     "metadata": {},
     "output_type": "execute_result"
    }
   ],
   "source": [
    "import pandas as pd\n",
    "import numpy as np\n",
    "import seaborn as sns\n",
    "import matplotlib.pyplot as plt\n",
    "\n",
    "from bs4 import BeautifulSoup\n",
    "\n",
    "\n",
    "from sklearn.linear_model import LogisticRegression\n",
    "from sklearn.tree import DecisionTreeClassifier\n",
    "from sklearn.linear_model import LinearRegression\n",
    "from sklearn.model_selection import train_test_split, cross_val_score\n",
    "from sklearn.feature_extraction.text import CountVectorizer, TfidfVectorizer\n",
    "from sklearn.pipeline import Pipeline\n",
    "from sklearn.model_selection import train_test_split, GridSearchCV\n",
    "from sklearn.metrics import plot_confusion_matrix\n",
    "from sklearn.metrics import plot_roc_curve\n",
    "\n",
    "from nltk.stem import WordNetLemmatizer, PorterStemmer\n",
    "from nltk.corpus import stopwords\n",
    "from nltk.tokenize import sent_tokenize, word_tokenize, RegexpTokenizer\n",
    "\n",
    "import nltk\n",
    "nltk.download('wordnet')\n",
    "nltk.download('stopwords')"
   ]
  },
  {
   "cell_type": "markdown",
   "id": "b7fff678",
   "metadata": {},
   "source": [
    "The ring bearer/ chosen one\n",
    "Gandalf the Grey/Albus Dumbledore\n",
    "Sauron the Deceiver and Lord Voldemort \n",
    "The one ring/ Horcruxes\n",
    "Nazgul/ Dementors \n",
    "Gollum/ The Elves \n",
    "Shelob/ Aragog\n",
    "Mirror of Galadriel/ Mirror of Erised-Pensieve \n",
    "Dead Marshes/ Inferi \n",
    "The power of the ring/ Legilimens "
   ]
  },
  {
   "cell_type": "code",
   "execution_count": 2,
   "id": "5e5e2ef8",
   "metadata": {},
   "outputs": [],
   "source": [
    "df = pd.read_csv('Data/reddit_corpus', index_col = 0)"
   ]
  },
  {
   "cell_type": "code",
   "execution_count": 3,
   "id": "8785b9b2",
   "metadata": {},
   "outputs": [
    {
     "data": {
      "text/plain": [
       "title             0\n",
       "subreddit         0\n",
       "selftext       1150\n",
       "created_utc       0\n",
       "dtype: int64"
      ]
     },
     "execution_count": 3,
     "metadata": {},
     "output_type": "execute_result"
    }
   ],
   "source": [
    "df.isnull().sum()"
   ]
  },
  {
   "cell_type": "code",
   "execution_count": 4,
   "id": "0e103841",
   "metadata": {},
   "outputs": [],
   "source": [
    "df.fillna(\"\", inplace = True)"
   ]
  },
  {
   "cell_type": "code",
   "execution_count": 5,
   "id": "5ef9cab3",
   "metadata": {},
   "outputs": [
    {
     "data": {
      "text/plain": [
       "title          0\n",
       "subreddit      0\n",
       "selftext       0\n",
       "created_utc    0\n",
       "dtype: int64"
      ]
     },
     "execution_count": 5,
     "metadata": {},
     "output_type": "execute_result"
    }
   ],
   "source": [
    "df.isnull().sum()"
   ]
  },
  {
   "cell_type": "markdown",
   "id": "0610841a",
   "metadata": {},
   "source": [
    "I am going to make 2 models, one with the similarities between LOTR and HP, and one without... And see how the models perform! If a model has more difficulty identifying which reddit a particular text belongs to when characters are taken out, could that mean a similarity?"
   ]
  },
  {
   "cell_type": "code",
   "execution_count": 6,
   "id": "53aba608",
   "metadata": {},
   "outputs": [],
   "source": [
    "#only look at lotr subreddits\n",
    "lotr_posts = df[df['subreddit'] == 'lotr']"
   ]
  },
  {
   "cell_type": "code",
   "execution_count": 7,
   "id": "c2e7390d",
   "metadata": {},
   "outputs": [],
   "source": [
    "#only look at harrypotter subreddits\n",
    "hp_posts = df[df['subreddit'] == 'harrypotter']"
   ]
  },
  {
   "cell_type": "code",
   "execution_count": 8,
   "id": "637b3d4a",
   "metadata": {},
   "outputs": [],
   "source": [
    "X = df['selftext']\n",
    "y = df['subreddit']"
   ]
  },
  {
   "cell_type": "code",
   "execution_count": 9,
   "id": "a6f6b486",
   "metadata": {},
   "outputs": [
    {
     "data": {
      "text/plain": [
       "lotr           0.5\n",
       "harrypotter    0.5\n",
       "Name: subreddit, dtype: float64"
      ]
     },
     "execution_count": 9,
     "metadata": {},
     "output_type": "execute_result"
    }
   ],
   "source": [
    "# Check what we need to check in a classification problem.\n",
    "y.value_counts(normalize = True)"
   ]
  },
  {
   "cell_type": "code",
   "execution_count": 10,
   "id": "91633ced",
   "metadata": {},
   "outputs": [],
   "source": [
    "# Split the data into the training and testing sets.\n",
    "X_train, X_test, y_train, y_test = train_test_split(X,y, random_state=42, stratify = y)"
   ]
  },
  {
   "cell_type": "code",
   "execution_count": 11,
   "id": "82b7464b",
   "metadata": {},
   "outputs": [],
   "source": [
    "vect = CountVectorizer()"
   ]
  },
  {
   "cell_type": "code",
   "execution_count": 12,
   "id": "d28a86fd",
   "metadata": {},
   "outputs": [],
   "source": [
    "vect.fit(X_train)\n",
    "X_train = vect.transform(X_train)"
   ]
  },
  {
   "cell_type": "code",
   "execution_count": 13,
   "id": "a8b0442c",
   "metadata": {},
   "outputs": [
    {
     "data": {
      "text/plain": [
       "(3000, 5667)"
      ]
     },
     "execution_count": 13,
     "metadata": {},
     "output_type": "execute_result"
    }
   ],
   "source": [
    "X_train.shape"
   ]
  },
  {
   "cell_type": "code",
   "execution_count": 14,
   "id": "79294daa",
   "metadata": {},
   "outputs": [
    {
     "data": {
      "text/plain": [
       "array(['000', '03', '10', ..., 'zombified', 'zone', 'zoom'], dtype=object)"
      ]
     },
     "execution_count": 14,
     "metadata": {},
     "output_type": "execute_result"
    }
   ],
   "source": [
    "vect.get_feature_names_out()"
   ]
  },
  {
   "cell_type": "code",
   "execution_count": 15,
   "id": "87bf807d",
   "metadata": {},
   "outputs": [],
   "source": [
    "vect2 = CountVectorizer()\n",
    "vect2.fit(X_test)\n",
    "X_test = vect2.transform(X_test)"
   ]
  },
  {
   "cell_type": "code",
   "execution_count": 17,
   "id": "91463e42",
   "metadata": {},
   "outputs": [],
   "source": [
    "X_train_df = pd.DataFrame(X_train.todense(), \n",
    "                          columns=vect.get_feature_names_out())"
   ]
  },
  {
   "cell_type": "markdown",
   "id": "bd75c5f8",
   "metadata": {},
   "source": [
    "Plotting the top occuring words!"
   ]
  },
  {
   "cell_type": "code",
   "execution_count": 18,
   "id": "19ea4231",
   "metadata": {},
   "outputs": [
    {
     "data": {
      "image/png": "[encoded data removed]",
      "text/plain": [
       "<Figure size 432x288 with 1 Axes>"
      ]
     },
     "metadata": {
      "needs_background": "light"
     },
     "output_type": "display_data"
    }
   ],
   "source": [
    "X_train_df.sum().sort_values(ascending=False).head(10).plot(kind='barh');\n"
   ]
  },
  {
   "cell_type": "code",
   "execution_count": 20,
   "id": "241f211b",
   "metadata": {},
   "outputs": [],
   "source": [
    "# Redefine training and testing sets.\n",
    "X_train, X_test, y_train, y_test = train_test_split(X,\n",
    "                                                    y,\n",
    "                                                    stratify=y,\n",
    "                                                    random_state=42)\n"
   ]
  },
  {
   "cell_type": "code",
   "execution_count": 21,
   "id": "8efcba7b",
   "metadata": {},
   "outputs": [
    {
     "data": {
      "text/plain": [
       "lotr           0.5\n",
       "harrypotter    0.5\n",
       "Name: subreddit, dtype: float64"
      ]
     },
     "execution_count": 21,
     "metadata": {},
     "output_type": "execute_result"
    }
   ],
   "source": [
    "#Getting the baseline accuracy for my model\n",
    "y_test.value_counts(normalize=True)"
   ]
  },
  {
   "cell_type": "code",
   "execution_count": 40,
   "id": "b30d2ad6",
   "metadata": {},
   "outputs": [],
   "source": [
    "pipe = Pipeline([\n",
    "    ('vect', CountVectorizer(binary = True, max_features = None)),\n",
    "    ('model', LogisticRegression())\n",
    "])\n"
   ]
  },
  {
   "cell_type": "code",
   "execution_count": 41,
   "id": "b38a740d",
   "metadata": {},
   "outputs": [
    {
     "data": {
      "text/plain": [
       "0.9659999999999999"
      ]
     },
     "execution_count": 41,
     "metadata": {},
     "output_type": "execute_result"
    }
   ],
   "source": [
    "#How will my model perform on unseen data?\n",
    "cross_val_score(pipe, X_train, y_train, cv=3).mean() \n"
   ]
  },
  {
   "cell_type": "code",
   "execution_count": 42,
   "id": "98abf674",
   "metadata": {},
   "outputs": [
    {
     "name": "stdout",
     "output_type": "stream",
     "text": [
      "0.966\n"
     ]
    },
    {
     "data": {
      "text/plain": [
       "{'vect__binary': True, 'vect__max_features': None}"
      ]
     },
     "execution_count": 42,
     "metadata": {},
     "output_type": "execute_result"
    }
   ],
   "source": [
    "#From lecture on 2.25\n",
    "param_grid = {\n",
    "    'vect__binary': [True, False],\n",
    "    'vect__max_features': [None, 4000, 5000]\n",
    "}\n",
    "gs = GridSearchCV(pipe, param_grid=param_grid)\n",
    "gs.fit(X_train, y_train)\n",
    "print(gs.best_score_)\n",
    "gs.best_params_"
   ]
  },
  {
   "cell_type": "code",
   "execution_count": 47,
   "id": "de6719b3",
   "metadata": {},
   "outputs": [
    {
     "name": "stderr",
     "output_type": "stream",
     "text": [
      "/Users/breezehomefolder/opt/anaconda3/lib/python3.9/site-packages/sklearn/utils/deprecation.py:87: FutureWarning: Function plot_confusion_matrix is deprecated; Function `plot_confusion_matrix` is deprecated in 1.0 and will be removed in 1.2. Use one of the class methods: ConfusionMatrixDisplay.from_predictions or ConfusionMatrixDisplay.from_estimator.\n",
      "  warnings.warn(msg, category=FutureWarning)\n"
     ]
    },
    {
     "data": {
      "image/png": "[encoded data removed]",
      "text/plain": [
       "<Figure size 432x288 with 2 Axes>"
      ]
     },
     "metadata": {
      "needs_background": "light"
     },
     "output_type": "display_data"
    }
   ],
   "source": [
    "plot_confusion_matrix(gs, X_test, y_test);"
   ]
  },
  {
   "cell_type": "markdown",
   "id": "a6d0bb95",
   "metadata": {},
   "source": [
    "Actual No Predicted No (TN) = 471\n",
    "Actual No Predicted Yes (FP) = 29\n",
    "Actual Yes Predicted No (FN) = 1\n",
    "Actual Yes Predicted Yes (TP) = 499"
   ]
  },
  {
   "cell_type": "markdown",
   "id": "9eb4a143",
   "metadata": {},
   "source": [
    "Now we will see how well the model will perform without the character names in them! "
   ]
  },
  {
   "cell_type": "code",
   "execution_count": null,
   "id": "46052fdb",
   "metadata": {},
   "outputs": [],
   "source": []
  }
 ],
 "metadata": {
  "kernelspec": {
   "display_name": "Python 3 (ipykernel)",
   "language": "python",
   "name": "python3"
  },
  "language_info": {
   "codemirror_mode": {
    "name": "ipython",
    "version": 3
   },
   "file_extension": ".py",
   "mimetype": "text/x-python",
   "name": "python",
   "nbconvert_exporter": "python",
   "pygments_lexer": "ipython3",
   "version": "3.9.7"
  }
 },
 "nbformat": 4,
 "nbformat_minor": 5
}
