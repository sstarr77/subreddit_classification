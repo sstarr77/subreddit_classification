{
 "cells": [
  {
   "cell_type": "code",
   "execution_count": 3,
   "id": "6855231f",
   "metadata": {},
   "outputs": [
    {
     "name": "stderr",
     "output_type": "stream",
     "text": [
      "[nltk_data] Downloading package wordnet to\n",
      "[nltk_data]     /Users/breezehomefolder/nltk_data...\n",
      "[nltk_data]   Package wordnet is already up-to-date!\n",
      "[nltk_data] Downloading package stopwords to\n",
      "[nltk_data]     /Users/breezehomefolder/nltk_data...\n",
      "[nltk_data]   Package stopwords is already up-to-date!\n"
     ]
    },
    {
     "data": {
      "text/plain": [
       "True"
      ]
     },
     "execution_count": 3,
     "metadata": {},
     "output_type": "execute_result"
    }
   ],
   "source": [
    "import pandas as pd\n",
    "import numpy as np\n",
    "import seaborn as sns\n",
    "import matplotlib.pyplot as plt\n",
    "\n",
    "from bs4 import BeautifulSoup\n",
    "\n",
    "\n",
    "from sklearn.linear_model import LogisticRegression\n",
    "from sklearn.tree import DecisionTreeClassifier\n",
    "from sklearn.linear_model import LinearRegression\n",
    "from sklearn.model_selection import train_test_split, cross_val_score\n",
    "from sklearn.feature_extraction.text import CountVectorizer, TfidfVectorizer\n",
    "from sklearn.pipeline import Pipeline\n",
    "from sklearn.model_selection import train_test_split, GridSearchCV\n",
    "from sklearn.metrics import plot_confusion_matrix\n",
    "from sklearn.metrics import plot_roc_curve\n",
    "from sklearn.metrics import confusion_matrix\n",
    "\n",
    "from nltk.stem import WordNetLemmatizer, PorterStemmer\n",
    "from nltk.corpus import stopwords\n",
    "from nltk.tokenize import sent_tokenize, word_tokenize, RegexpTokenizer\n",
    "from nltk.tokenize.casual import casual_tokenize\n",
    "\n",
    "import nltk\n",
    "nltk.download('wordnet')\n",
    "nltk.download('stopwords')"
   ]
  },
  {
   "cell_type": "code",
   "execution_count": 4,
   "id": "792c1de0",
   "metadata": {},
   "outputs": [],
   "source": [
    "df = pd.read_csv('Data/reddit_corpus', index_col = 0)"
   ]
  },
  {
   "cell_type": "code",
   "execution_count": 5,
   "id": "20d5a4b2",
   "metadata": {},
   "outputs": [],
   "source": [
    "df.fillna(\"\", inplace = True)"
   ]
  },
  {
   "cell_type": "code",
   "execution_count": 6,
   "id": "af3e8935",
   "metadata": {},
   "outputs": [],
   "source": [
    "list_1 = ['ring', 'chosen one', 'gandalf','Gandalf', 'Gandalf the Grey', 'albus', 'albus dumbledore', 'Albus Dumbledore',\n",
    " 'Sauron the Deceiver', 'sauron', 'Voldemort', 'voldemort ', 'Lord Voldemort', 'the dark lord','The Dark Lord', 'horcrux', 'horcruxes', \n",
    " 'Horcrux', 'Horcruxes', 'Nazgul', 'nazgul', 'Dementors', 'dementors', 'gollum', 'Gollum', 'The Elves Shelob', 'Elves',\n",
    " 'Elf', 'aragog', 'Aragog', 'Mirror of Galadriael', 'Mirror of Erised-Pensieve', 'Dead Marshes', 'Inferi', 'Legilimens',\n",
    " 'the power of the ring', 'Harry', 'Harry Potter', 'Dobby', 'the elf', 'Wizard', 'wizard', 'wand', 'Hermione', 'Ron']\n",
    "\n",
    "\n"
   ]
  },
  {
   "cell_type": "markdown",
   "id": "d8224bef",
   "metadata": {},
   "source": [
    "Replacing any words in list_1 with an empty space."
   ]
  },
  {
   "cell_type": "code",
   "execution_count": 7,
   "id": "39df59eb",
   "metadata": {},
   "outputs": [],
   "source": [
    "df['selftext'] = df['selftext'].replace(list_1, \"\")"
   ]
  },
  {
   "cell_type": "code",
   "execution_count": 8,
   "id": "abc4ab38",
   "metadata": {},
   "outputs": [],
   "source": [
    "X = df['selftext']\n",
    "y = df['subreddit']"
   ]
  },
  {
   "cell_type": "markdown",
   "id": "dd35e69a",
   "metadata": {},
   "source": [
    "Obtaining baseline value."
   ]
  },
  {
   "cell_type": "code",
   "execution_count": 9,
   "id": "0e20a8cf",
   "metadata": {},
   "outputs": [
    {
     "data": {
      "text/plain": [
       "lotr           0.5\n",
       "harrypotter    0.5\n",
       "Name: subreddit, dtype: float64"
      ]
     },
     "execution_count": 9,
     "metadata": {},
     "output_type": "execute_result"
    }
   ],
   "source": [
    "y.value_counts(normalize = True)"
   ]
  },
  {
   "cell_type": "code",
   "execution_count": 10,
   "id": "fb154f8e",
   "metadata": {},
   "outputs": [],
   "source": [
    "X_train, X_test, y_train, y_test = train_test_split(X,y, random_state=42, stratify = y)"
   ]
  },
  {
   "cell_type": "code",
   "execution_count": 11,
   "id": "fe7f001c",
   "metadata": {},
   "outputs": [],
   "source": [
    "vect = CountVectorizer()"
   ]
  },
  {
   "cell_type": "code",
   "execution_count": 12,
   "id": "04ad8435",
   "metadata": {},
   "outputs": [],
   "source": [
    "vect.fit(X_train)\n",
    "X_train = vect.transform(X_train)"
   ]
  },
  {
   "cell_type": "code",
   "execution_count": 13,
   "id": "3f398b08",
   "metadata": {},
   "outputs": [
    {
     "data": {
      "text/plain": [
       "array(['000', '03', '10', ..., 'zombified', 'zone', 'zoom'], dtype=object)"
      ]
     },
     "execution_count": 13,
     "metadata": {},
     "output_type": "execute_result"
    }
   ],
   "source": [
    "vect.get_feature_names_out()"
   ]
  },
  {
   "cell_type": "code",
   "execution_count": 14,
   "id": "7629467e",
   "metadata": {},
   "outputs": [],
   "source": [
    "vect2 = CountVectorizer()\n",
    "vect2.fit(X_test)\n",
    "X_test = vect2.transform(X_test)"
   ]
  },
  {
   "cell_type": "code",
   "execution_count": 15,
   "id": "51894ec0",
   "metadata": {},
   "outputs": [],
   "source": [
    "pipe = Pipeline([\n",
    "    ('vect2', CountVectorizer(stop_words = list_1)),\n",
    "    ('model', LogisticRegression())\n",
    "])"
   ]
  },
  {
   "cell_type": "code",
   "execution_count": 16,
   "id": "73ad583b",
   "metadata": {},
   "outputs": [],
   "source": [
    "X_train_df = pd.DataFrame(X_train.todense(), \n",
    "                          columns=vect.get_feature_names_out())"
   ]
  },
  {
   "cell_type": "markdown",
   "id": "68f081e8",
   "metadata": {},
   "source": [
    "Plotting top 10 words."
   ]
  },
  {
   "cell_type": "code",
   "execution_count": 18,
   "id": "2de28935",
   "metadata": {},
   "outputs": [
    {
     "data": {
      "image/png": "[encoded data removed]",
      "text/plain": [
       "<Figure size 432x288 with 1 Axes>"
      ]
     },
     "metadata": {
      "needs_background": "light"
     },
     "output_type": "display_data"
    }
   ],
   "source": [
    "X_train_df.sum().sort_values(ascending=False).head(10).plot(kind='barh')\n",
    "plt.title('Top 10 Occuring Words');\n"
   ]
  },
  {
   "cell_type": "markdown",
   "id": "8e7cc92d",
   "metadata": {},
   "source": [
    "Below is where we tried to get the results from our pipe, and where there is an error pertaining to the model not being fit correctly. I worked on this with Tanveer, and we could not find the solution. The best hypothesis we both had to this, was that my problem statement had proven true."
   ]
  },
  {
   "cell_type": "code",
   "execution_count": 1,
   "id": "7a44eb83",
   "metadata": {
    "scrolled": true
   },
   "outputs": [],
   "source": [
    "#How will my model perform on unseen data?\n",
    "# cross_val_score(pipe, X_train, y_train, cv=3).mean() "
   ]
  },
  {
   "cell_type": "code",
   "execution_count": null,
   "id": "1ff395fb",
   "metadata": {},
   "outputs": [],
   "source": [
    "#From lecture on 2.25\n",
    "# param_grid = {\n",
    "#     'vect__binary': [True, False],\n",
    "#     'vect__max_features': [None, 4000, 5000],\n",
    "#     'vect__stop_words': ['english', None],\n",
    "# }\n",
    "# gs = GridSearchCV(pipe, param_grid=param_grid)\n",
    "# gs.fit(X_train, y_train)\n",
    "# print(gs.best_score_)\n",
    "# gs.best_params_"
   ]
  }
 ],
 "metadata": {
  "kernelspec": {
   "display_name": "Python 3 (ipykernel)",
   "language": "python",
   "name": "python3"
  },
  "language_info": {
   "codemirror_mode": {
    "name": "ipython",
    "version": 3
   },
   "file_extension": ".py",
   "mimetype": "text/x-python",
   "name": "python",
   "nbconvert_exporter": "python",
   "pygments_lexer": "ipython3",
   "version": "3.9.7"
  }
 },
 "nbformat": 4,
 "nbformat_minor": 5
}
